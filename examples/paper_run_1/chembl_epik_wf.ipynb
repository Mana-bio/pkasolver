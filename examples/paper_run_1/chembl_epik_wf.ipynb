{
 "cells": [
  {
   "cell_type": "code",
   "execution_count": 13,
   "metadata": {},
   "outputs": [
    {
     "data": {
      "text/plain": [
       "1899575"
      ]
     },
     "execution_count": 13,
     "metadata": {},
     "output_type": "execute_result"
    }
   ],
   "source": [
    "# call chmebl api with some basic molecule filters\n",
    "from chembl_webresource_client.new_client import new_client\n",
    "from tqdm import tqdm\n",
    "import json\n",
    "molecule = new_client.molecule\n",
    "molecule.set_format('sdf')\n",
    "# mols = molecule.filter(max_phase=4)\n",
    "mols = molecule.filter(molecule_type=\"Small molecule\").filter(molecule_properties__mw_freebase__lte=1000)\n",
    "len(mols)"
   ]
  },
  {
   "cell_type": "code",
   "execution_count": 11,
   "metadata": {},
   "outputs": [
    {
     "data": {
      "text/plain": [
       "'\\n     RDKit          2D\\n\\n 24 26  0  0  0  0  0  0  0  0999 V2000\\n    5.2792   -2.0500    0.0000 C   0  0  0  0  0  0  0  0  0  0  0  0\\n    5.7917   -2.3500    0.0000 N   0  0  0  0  0  0  0  0  0  0  0  0\\n    5.2792   -1.4500    0.0000 N   0  0  0  0  0  0  0  0  0  0  0  0\\n    6.3125   -2.0500    0.0000 N   0  0  0  0  0  0  0  0  0  0  0  0\\n    5.7875   -4.7417    0.0000 C   0  0  0  0  0  0  0  0  0  0  0  0\\n    5.7875   -4.1417    0.0000 C   0  0  0  0  0  0  0  0  0  0  0  0\\n    6.3125   -1.4500    0.0000 C   0  0  0  0  0  0  0  0  0  0  0  0\\n    6.3042   -5.0417    0.0000 C   0  0  0  0  0  0  0  0  0  0  0  0\\n    5.7917   -1.1500    0.0000 C   0  0  0  0  0  0  0  0  0  0  0  0\\n    5.7917   -2.9500    0.0000 C   0  0  0  0  0  0  0  0  0  0  0  0\\n    5.2667   -3.8417    0.0000 C   0  0  0  0  0  0  0  0  0  0  0  0\\n    5.2667   -3.2417    0.0000 C   0  0  0  0  0  0  0  0  0  0  0  0\\n    6.3042   -3.8417    0.0000 C   0  0  0  0  0  0  0  0  0  0  0  0\\n    4.7542   -2.3417    0.0000 O   0  0  0  0  0  0  0  0  0  0  0  0\\n    6.3042   -5.6417    0.0000 C   0  0  0  0  0  0  0  0  0  0  0  0\\n    5.2667   -5.0417    0.0000 O   0  0  0  0  0  0  0  0  0  0  0  0\\n    6.3042   -3.2417    0.0000 C   0  0  0  0  0  0  0  0  0  0  0  0\\n    5.7917   -0.5500    0.0000 O   0  0  0  0  0  0  0  0  0  0  0  0\\n    5.7792   -5.9417    0.0000 Cl  0  0  0  0  0  0  0  0  0  0  0  0\\n    6.8167   -4.7417    0.0000 C   0  0  0  0  0  0  0  0  0  0  0  0\\n    4.7417   -4.1417    0.0000 C   0  0  0  0  0  0  0  0  0  0  0  0\\n    6.8250   -5.9417    0.0000 C   0  0  0  0  0  0  0  0  0  0  0  0\\n    7.3417   -5.0417    0.0000 C   0  0  0  0  0  0  0  0  0  0  0  0\\n    7.3417   -5.6417    0.0000 C   0  0  0  0  0  0  0  0  0  0  0  0\\n  2  1  1  0\\n  3  1  1  0\\n  4  2  1  0\\n  5  6  1  0\\n  6 13  1  0\\n  7  9  1  0\\n  8  5  1  0\\n  9  3  1  0\\n 10  2  1  0\\n 11 12  1  0\\n 12 10  2  0\\n 13 17  2  0\\n 14  1  2  0\\n 15  8  2  0\\n 16  5  2  0\\n 17 10  1  0\\n 18  9  2  0\\n 19 15  1  0\\n 20  8  1  0\\n 21 11  1  0\\n 22 15  1  0\\n 23 20  2  0\\n 24 23  1  0\\n  4  7  2  0\\n 11  6  2  0\\n 22 24  2  0\\nM  END\\n\\n> <chembl_id>\\nCHEMBL6329\\n\\n> <chembl_pref_name>\\nNone\\n\\n\\n'"
      ]
     },
     "execution_count": 11,
     "metadata": {},
     "output_type": "execute_result"
    }
   ],
   "source": [
    "next(iter(mols)).decode('ascii')"
   ]
  },
  {
   "cell_type": "code",
   "execution_count": 14,
   "metadata": {},
   "outputs": [
    {
     "name": "stderr",
     "output_type": "stream",
     "text": [
      "  0%|          | 525/1899575 [00:41<41:17:02, 12.78it/s]\n"
     ]
    },
    {
     "ename": "HttpNotFound",
     "evalue": "Error for url https://www.ebi.ac.uk/chembl/api/data/molecule.sdf, server response: Molecule has no structure records.",
     "output_type": "error",
     "traceback": [
      "\u001b[0;31m---------------------------------------------------------------------------\u001b[0m",
      "\u001b[0;31mHttpNotFound\u001b[0m                              Traceback (most recent call last)",
      "\u001b[0;32m/tmp/ipykernel_6260/217602826.py\u001b[0m in \u001b[0;36m<module>\u001b[0;34m\u001b[0m\n\u001b[1;32m      1\u001b[0m \u001b[0;32mwith\u001b[0m \u001b[0mopen\u001b[0m\u001b[0;34m(\u001b[0m\u001b[0;34m'mols_chembl.sdf'\u001b[0m\u001b[0;34m,\u001b[0m \u001b[0;34m'w'\u001b[0m\u001b[0;34m)\u001b[0m \u001b[0;32mas\u001b[0m \u001b[0moutput\u001b[0m\u001b[0;34m:\u001b[0m\u001b[0;34m\u001b[0m\u001b[0;34m\u001b[0m\u001b[0m\n\u001b[0;32m----> 2\u001b[0;31m       \u001b[0;32mfor\u001b[0m \u001b[0mmol\u001b[0m \u001b[0;32min\u001b[0m \u001b[0mtqdm\u001b[0m\u001b[0;34m(\u001b[0m\u001b[0mmols\u001b[0m\u001b[0;34m)\u001b[0m\u001b[0;34m:\u001b[0m\u001b[0;34m\u001b[0m\u001b[0;34m\u001b[0m\u001b[0m\n\u001b[0m\u001b[1;32m      3\u001b[0m           \u001b[0moutput\u001b[0m\u001b[0;34m.\u001b[0m\u001b[0mwrite\u001b[0m\u001b[0;34m(\u001b[0m\u001b[0mmol\u001b[0m\u001b[0;34m.\u001b[0m\u001b[0mdecode\u001b[0m\u001b[0;34m(\u001b[0m\u001b[0;34m'ascii'\u001b[0m\u001b[0;34m)\u001b[0m\u001b[0;34m)\u001b[0m\u001b[0;34m\u001b[0m\u001b[0;34m\u001b[0m\u001b[0m\n\u001b[1;32m      4\u001b[0m           \u001b[0moutput\u001b[0m\u001b[0;34m.\u001b[0m\u001b[0mwrite\u001b[0m\u001b[0;34m(\u001b[0m\u001b[0;34m'$$$$\\n'\u001b[0m\u001b[0;34m)\u001b[0m\u001b[0;34m\u001b[0m\u001b[0;34m\u001b[0m\u001b[0m\n",
      "\u001b[0;32m/data/shared/projects/pKa-prediction/anaconda3/envs/pkasolver/lib/python3.9/site-packages/tqdm/std.py\u001b[0m in \u001b[0;36m__iter__\u001b[0;34m(self)\u001b[0m\n\u001b[1;32m   1178\u001b[0m \u001b[0;34m\u001b[0m\u001b[0m\n\u001b[1;32m   1179\u001b[0m         \u001b[0;32mtry\u001b[0m\u001b[0;34m:\u001b[0m\u001b[0;34m\u001b[0m\u001b[0;34m\u001b[0m\u001b[0m\n\u001b[0;32m-> 1180\u001b[0;31m             \u001b[0;32mfor\u001b[0m \u001b[0mobj\u001b[0m \u001b[0;32min\u001b[0m \u001b[0miterable\u001b[0m\u001b[0;34m:\u001b[0m\u001b[0;34m\u001b[0m\u001b[0;34m\u001b[0m\u001b[0m\n\u001b[0m\u001b[1;32m   1181\u001b[0m                 \u001b[0;32myield\u001b[0m \u001b[0mobj\u001b[0m\u001b[0;34m\u001b[0m\u001b[0;34m\u001b[0m\u001b[0m\n\u001b[1;32m   1182\u001b[0m                 \u001b[0;31m# Update and possibly print the progressbar.\u001b[0m\u001b[0;34m\u001b[0m\u001b[0;34m\u001b[0m\u001b[0m\n",
      "\u001b[0;32m/data/shared/projects/pKa-prediction/anaconda3/envs/pkasolver/lib/python3.9/site-packages/chembl_webresource_client/query_set.py\u001b[0m in \u001b[0;36m__next__\u001b[0;34m(self)\u001b[0m\n\u001b[1;32m    125\u001b[0m \u001b[0;34m\u001b[0m\u001b[0m\n\u001b[1;32m    126\u001b[0m     \u001b[0;32mdef\u001b[0m \u001b[0m__next__\u001b[0m\u001b[0;34m(\u001b[0m\u001b[0mself\u001b[0m\u001b[0;34m)\u001b[0m\u001b[0;34m:\u001b[0m\u001b[0;34m\u001b[0m\u001b[0;34m\u001b[0m\u001b[0m\n\u001b[0;32m--> 127\u001b[0;31m         \u001b[0;32mreturn\u001b[0m \u001b[0mself\u001b[0m\u001b[0;34m.\u001b[0m\u001b[0mnext\u001b[0m\u001b[0;34m(\u001b[0m\u001b[0;34m)\u001b[0m\u001b[0;34m\u001b[0m\u001b[0;34m\u001b[0m\u001b[0m\n\u001b[0m\u001b[1;32m    128\u001b[0m \u001b[0;34m\u001b[0m\u001b[0m\n\u001b[1;32m    129\u001b[0m \u001b[0;31m#-----------------------------------------------------------------------------------------------------------------------\u001b[0m\u001b[0;34m\u001b[0m\u001b[0;34m\u001b[0m\u001b[0m\n",
      "\u001b[0;32m/data/shared/projects/pKa-prediction/anaconda3/envs/pkasolver/lib/python3.9/site-packages/chembl_webresource_client/query_set.py\u001b[0m in \u001b[0;36mnext\u001b[0;34m(self)\u001b[0m\n\u001b[1;32m    113\u001b[0m             \u001b[0mself\u001b[0m\u001b[0;34m.\u001b[0m\u001b[0mchunk\u001b[0m \u001b[0;34m=\u001b[0m \u001b[0mself\u001b[0m\u001b[0;34m.\u001b[0m\u001b[0mquery\u001b[0m\u001b[0;34m.\u001b[0m\u001b[0mget_page\u001b[0m\u001b[0;34m(\u001b[0m\u001b[0;34m)\u001b[0m\u001b[0;34m\u001b[0m\u001b[0;34m\u001b[0m\u001b[0m\n\u001b[1;32m    114\u001b[0m         \u001b[0;32mif\u001b[0m \u001b[0;32mnot\u001b[0m \u001b[0mself\u001b[0m\u001b[0;34m.\u001b[0m\u001b[0mchunk\u001b[0m \u001b[0;32mor\u001b[0m \u001b[0mself\u001b[0m\u001b[0;34m.\u001b[0m\u001b[0mcurrent_index\u001b[0m \u001b[0;34m>=\u001b[0m \u001b[0mlen\u001b[0m\u001b[0;34m(\u001b[0m\u001b[0mself\u001b[0m\u001b[0;34m.\u001b[0m\u001b[0mchunk\u001b[0m\u001b[0;34m)\u001b[0m\u001b[0;34m:\u001b[0m\u001b[0;34m\u001b[0m\u001b[0;34m\u001b[0m\u001b[0m\n\u001b[0;32m--> 115\u001b[0;31m             \u001b[0mself\u001b[0m\u001b[0;34m.\u001b[0m\u001b[0mchunk\u001b[0m \u001b[0;34m=\u001b[0m \u001b[0mself\u001b[0m\u001b[0;34m.\u001b[0m\u001b[0mquery\u001b[0m\u001b[0;34m.\u001b[0m\u001b[0mnext_page\u001b[0m\u001b[0;34m(\u001b[0m\u001b[0;34m)\u001b[0m\u001b[0;34m\u001b[0m\u001b[0;34m\u001b[0m\u001b[0m\n\u001b[0m\u001b[1;32m    116\u001b[0m             \u001b[0;32mif\u001b[0m \u001b[0;32mnot\u001b[0m \u001b[0mself\u001b[0m\u001b[0;34m.\u001b[0m\u001b[0mchunk\u001b[0m\u001b[0;34m:\u001b[0m\u001b[0;34m\u001b[0m\u001b[0;34m\u001b[0m\u001b[0m\n\u001b[1;32m    117\u001b[0m                 \u001b[0;32mraise\u001b[0m \u001b[0mStopIteration\u001b[0m\u001b[0;34m\u001b[0m\u001b[0;34m\u001b[0m\u001b[0m\n",
      "\u001b[0;32m/data/shared/projects/pKa-prediction/anaconda3/envs/pkasolver/lib/python3.9/site-packages/chembl_webresource_client/url_query.py\u001b[0m in \u001b[0;36mnext_page\u001b[0;34m(self)\u001b[0m\n\u001b[1;32m    432\u001b[0m         \u001b[0mstart\u001b[0m \u001b[0;34m=\u001b[0m \u001b[0mself\u001b[0m\u001b[0;34m.\u001b[0m\u001b[0mstart\u001b[0m\u001b[0;34m\u001b[0m\u001b[0;34m\u001b[0m\u001b[0m\n\u001b[1;32m    433\u001b[0m         \u001b[0mself\u001b[0m\u001b[0;34m.\u001b[0m\u001b[0mcurrent_index\u001b[0m \u001b[0;34m=\u001b[0m \u001b[0mint\u001b[0m\u001b[0;34m(\u001b[0m\u001b[0mstart\u001b[0m \u001b[0;34m+\u001b[0m \u001b[0mself\u001b[0m\u001b[0;34m.\u001b[0m\u001b[0mlimit\u001b[0m \u001b[0;34m*\u001b[0m \u001b[0;34m(\u001b[0m\u001b[0mself\u001b[0m\u001b[0;34m.\u001b[0m\u001b[0mcurrent_page\u001b[0m \u001b[0;34m+\u001b[0m \u001b[0;36m1\u001b[0m\u001b[0;34m)\u001b[0m\u001b[0;34m)\u001b[0m\u001b[0;34m\u001b[0m\u001b[0;34m\u001b[0m\u001b[0m\n\u001b[0;32m--> 434\u001b[0;31m         \u001b[0;32mreturn\u001b[0m \u001b[0mself\u001b[0m\u001b[0;34m.\u001b[0m\u001b[0mget_page\u001b[0m\u001b[0;34m(\u001b[0m\u001b[0;34m)\u001b[0m\u001b[0;34m\u001b[0m\u001b[0;34m\u001b[0m\u001b[0m\n\u001b[0m\u001b[1;32m    435\u001b[0m \u001b[0;34m\u001b[0m\u001b[0m\n\u001b[1;32m    436\u001b[0m \u001b[0;31m# ----------------------------------------------------------------------------------------------------------------------\u001b[0m\u001b[0;34m\u001b[0m\u001b[0;34m\u001b[0m\u001b[0m\n",
      "\u001b[0;32m/data/shared/projects/pKa-prediction/anaconda3/envs/pkasolver/lib/python3.9/site-packages/chembl_webresource_client/url_query.py\u001b[0m in \u001b[0;36mget_page\u001b[0;34m(self)\u001b[0m\n\u001b[1;32m    392\u001b[0m             \u001b[0mself\u001b[0m\u001b[0;34m.\u001b[0m\u001b[0mlogger\u001b[0m\u001b[0;34m.\u001b[0m\u001b[0minfo\u001b[0m\u001b[0;34m(\u001b[0m\u001b[0;34m'From cache: {0}'\u001b[0m\u001b[0;34m.\u001b[0m\u001b[0mformat\u001b[0m\u001b[0;34m(\u001b[0m\u001b[0mres\u001b[0m\u001b[0;34m.\u001b[0m\u001b[0mfrom_cache\u001b[0m \u001b[0;32mif\u001b[0m \u001b[0mhasattr\u001b[0m\u001b[0;34m(\u001b[0m\u001b[0mres\u001b[0m\u001b[0;34m,\u001b[0m \u001b[0;34m'from_cache'\u001b[0m\u001b[0;34m)\u001b[0m \u001b[0;32melse\u001b[0m \u001b[0;32mFalse\u001b[0m\u001b[0;34m)\u001b[0m\u001b[0;34m)\u001b[0m\u001b[0;34m\u001b[0m\u001b[0;34m\u001b[0m\u001b[0m\n\u001b[1;32m    393\u001b[0m             \u001b[0;32mif\u001b[0m \u001b[0;32mnot\u001b[0m \u001b[0mres\u001b[0m\u001b[0;34m.\u001b[0m\u001b[0mok\u001b[0m\u001b[0;34m:\u001b[0m\u001b[0;34m\u001b[0m\u001b[0;34m\u001b[0m\u001b[0m\n\u001b[0;32m--> 394\u001b[0;31m                 \u001b[0mhandle_http_error\u001b[0m\u001b[0;34m(\u001b[0m\u001b[0mres\u001b[0m\u001b[0;34m)\u001b[0m\u001b[0;34m\u001b[0m\u001b[0;34m\u001b[0m\u001b[0m\n\u001b[0m\u001b[1;32m    395\u001b[0m             \u001b[0;32mif\u001b[0m \u001b[0mself\u001b[0m\u001b[0;34m.\u001b[0m\u001b[0mfrmt\u001b[0m \u001b[0;34m==\u001b[0m \u001b[0;34m'json'\u001b[0m\u001b[0;34m:\u001b[0m\u001b[0;34m\u001b[0m\u001b[0;34m\u001b[0m\u001b[0m\n\u001b[1;32m    396\u001b[0m                 \u001b[0mjson_data\u001b[0m \u001b[0;34m=\u001b[0m \u001b[0mres\u001b[0m\u001b[0;34m.\u001b[0m\u001b[0mjson\u001b[0m\u001b[0;34m(\u001b[0m\u001b[0;34m)\u001b[0m\u001b[0;34m\u001b[0m\u001b[0;34m\u001b[0m\u001b[0m\n",
      "\u001b[0;32m/data/shared/projects/pKa-prediction/anaconda3/envs/pkasolver/lib/python3.9/site-packages/chembl_webresource_client/http_errors.py\u001b[0m in \u001b[0;36mhandle_http_error\u001b[0;34m(request)\u001b[0m\n\u001b[1;32m    111\u001b[0m         \u001b[0mexception_class\u001b[0m \u001b[0;34m=\u001b[0m \u001b[0mstatus_to_exception\u001b[0m\u001b[0;34m.\u001b[0m\u001b[0mget\u001b[0m\u001b[0;34m(\u001b[0m\u001b[0mrequest\u001b[0m\u001b[0;34m.\u001b[0m\u001b[0mstatus_code\u001b[0m\u001b[0;34m,\u001b[0m \u001b[0mBaseHttpException\u001b[0m\u001b[0;34m)\u001b[0m\u001b[0;34m\u001b[0m\u001b[0;34m\u001b[0m\u001b[0m\n\u001b[1;32m    112\u001b[0m         \u001b[0;32mif\u001b[0m \u001b[0mrequest\u001b[0m\u001b[0;34m.\u001b[0m\u001b[0mtext\u001b[0m\u001b[0;34m:\u001b[0m\u001b[0;34m\u001b[0m\u001b[0;34m\u001b[0m\u001b[0m\n\u001b[0;32m--> 113\u001b[0;31m             \u001b[0;32mraise\u001b[0m \u001b[0mexception_class\u001b[0m\u001b[0;34m(\u001b[0m\u001b[0mrequest\u001b[0m\u001b[0;34m.\u001b[0m\u001b[0murl\u001b[0m\u001b[0;34m,\u001b[0m \u001b[0mrequest\u001b[0m\u001b[0;34m.\u001b[0m\u001b[0mtext\u001b[0m\u001b[0;34m)\u001b[0m\u001b[0;34m\u001b[0m\u001b[0;34m\u001b[0m\u001b[0m\n\u001b[0m\u001b[1;32m    114\u001b[0m         \u001b[0;32mraise\u001b[0m \u001b[0mexception_class\u001b[0m\u001b[0;34m(\u001b[0m\u001b[0mrequest\u001b[0m\u001b[0;34m.\u001b[0m\u001b[0murl\u001b[0m\u001b[0;34m,\u001b[0m \u001b[0mrequest\u001b[0m\u001b[0;34m.\u001b[0m\u001b[0mcontent\u001b[0m\u001b[0;34m)\u001b[0m\u001b[0;34m\u001b[0m\u001b[0;34m\u001b[0m\u001b[0m\n\u001b[1;32m    115\u001b[0m \u001b[0;34m\u001b[0m\u001b[0m\n",
      "\u001b[0;31mHttpNotFound\u001b[0m: Error for url https://www.ebi.ac.uk/chembl/api/data/molecule.sdf, server response: Molecule has no structure records."
     ]
    }
   ],
   "source": [
    "# write chembl query result to sdf file\n",
    "with open('mols_chembl.sdf', 'w') as output:\n",
    "      for mol in tqdm(mols):\n",
    "          output.write(mol.decode('ascii'))\n",
    "          output.write('$$$$\\n')\n",
    "# way too slow\n",
    "# Error because of missing structure data"
   ]
  },
  {
   "cell_type": "code",
   "execution_count": 6,
   "metadata": {},
   "outputs": [],
   "source": [
    "import os\n",
    "import time\n",
    "from importlib import reload \n",
    "from rdkit import Chem\n",
    "import pandas as pd\n",
    "# data_dir = \"../../data/Baltruschat/\"\n",
    "data_dir = \"/data/shared/projects/pKa-prediction/pkasolver/data/Baltruschat/\"\n",
    "schroedinger_dir = \"/data/shared/software/schrodinger2021-1/\"\n",
    "epik = schroedinger_dir + \"epik\"\n",
    "convert = schroedinger_dir + \"utilities/structconvert\""
   ]
  },
  {
   "cell_type": "code",
   "execution_count": 7,
   "metadata": {},
   "outputs": [
    {
     "name": "stdout",
     "output_type": "stream",
     "text": [
      "Converted file: /data/shared/projects/pKa-prediction/pkasolver/data/Baltruschat/nov.mae\n",
      "JobId: a7srv2-0-617ba9df\n",
      "\n",
      "Converted file: /data/shared/projects/pKa-prediction/pkasolver/data/Baltruschat/nov_epik.sdf\n"
     ]
    },
    {
     "data": {
      "text/plain": [
       "0"
      ]
     },
     "execution_count": 7,
     "metadata": {},
     "output_type": "execute_result"
    }
   ],
   "source": [
    "# convert .sdf file to .mae\n",
    "os.system(f\"{convert} {data_dir}novartis_cleaned_mono_unique_notraindata.sdf  {data_dir}nov.mae\")\n",
    "# predict pka of mols in .mae files with epik\n",
    "os.system(f\"{epik} -scan -imae {data_dir}nov.mae -omae {data_dir}nov_epik.mae\")\n",
    "# make the script wait until epik has finished\n",
    "while os.path.isfile(f\"{data_dir}nov_epik.mae\") == False:\n",
    "    time.sleep(2)\n",
    "# convert epik output from .mae to .sdf\n",
    "os.system(f\"{convert} {data_dir}nov_epik.mae  {data_dir}nov_epik.sdf\")"
   ]
  },
  {
   "cell_type": "code",
   "execution_count": 44,
   "metadata": {},
   "outputs": [],
   "source": [
    "# unfinished script for loading in epik sdf\n",
    "def load_sdf(input_file):\n",
    "    suppl = Chem.SDMolSupplier(str(input_file), removeHs=False)\n",
    "    df_rows = []\n",
    "    for ind, mol in enumerate(suppl):\n",
    "        if mol is not None:\n",
    "            smiles = Chem.MolToSmiles(mol)\n",
    "            df_rows.append([ind,smiles,mol])\n",
    "            try:\n",
    "                print(mol.GetPropsAsDict()['i_epik_pKa_atom_1'])\n",
    "            except:\n",
    "                pass\n",
    "        if ind > 100:\n",
    "            break\n",
    "    mol_df = pd.DataFrame(df_rows, columns=('mol_id', 'smiles', 'mol'))\n",
    "    return mol_df"
   ]
  },
  {
   "cell_type": "code",
   "execution_count": 45,
   "metadata": {},
   "outputs": [
    {
     "name": "stdout",
     "output_type": "stream",
     "text": [
      "5\n",
      "6\n",
      "7\n",
      "33\n"
     ]
    },
    {
     "name": "stderr",
     "output_type": "stream",
     "text": [
      "RDKit WARNING: [14:38:52] Warning: molecule is tagged as 3D, but all Z coords are zero\n",
      "[14:38:52] Warning: molecule is tagged as 3D, but all Z coords are zero\n",
      "RDKit WARNING: [14:38:52] Warning: molecule is tagged as 3D, but all Z coords are zero\n",
      "[14:38:52] Warning: molecule is tagged as 3D, but all Z coords are zero\n",
      "RDKit WARNING: [14:38:52] Warning: molecule is tagged as 3D, but all Z coords are zero\n",
      "RDKit WARNING: [14:38:52] Warning: molecule is tagged as 3D, but all Z coords are zero\n",
      "RDKit WARNING: [14:38:52] Warning: molecule is tagged as 3D, but all Z coords are zero\n",
      "RDKit WARNING: [14:38:52] Warning: molecule is tagged as 3D, but all Z coords are zero\n",
      "RDKit WARNING: [14:38:52] Warning: molecule is tagged as 3D, but all Z coords are zero\n",
      "[14:38:52] Warning: molecule is tagged as 3D, but all Z coords are zero\n",
      "RDKit WARNING: [14:38:52] Warning: molecule is tagged as 3D, but all Z coords are zero\n",
      "RDKit WARNING: [14:38:52] Warning: molecule is tagged as 3D, but all Z coords are zero\n"
     ]
    },
    {
     "data": {
      "text/html": [
       "<div>\n",
       "<style scoped>\n",
       "    .dataframe tbody tr th:only-of-type {\n",
       "        vertical-align: middle;\n",
       "    }\n",
       "\n",
       "    .dataframe tbody tr th {\n",
       "        vertical-align: top;\n",
       "    }\n",
       "\n",
       "    .dataframe thead th {\n",
       "        text-align: right;\n",
       "    }\n",
       "</style>\n",
       "<table border=\"1\" class=\"dataframe\">\n",
       "  <thead>\n",
       "    <tr style=\"text-align: right;\">\n",
       "      <th></th>\n",
       "      <th>mol_id</th>\n",
       "      <th>smiles</th>\n",
       "      <th>mol</th>\n",
       "    </tr>\n",
       "  </thead>\n",
       "  <tbody>\n",
       "    <tr>\n",
       "      <th>0</th>\n",
       "      <td>0</td>\n",
       "      <td>Brc1ccc(C2CN3C=CSC3=[NH+]2)cc1</td>\n",
       "      <td>&lt;rdkit.Chem.rdchem.Mol object at 0x7f74eb57c640&gt;</td>\n",
       "    </tr>\n",
       "    <tr>\n",
       "      <th>1</th>\n",
       "      <td>1</td>\n",
       "      <td>[H][n+]1ccc(C)cc1/C=C(\\C)C1CC2OC2(C)CCCC(C)C(O...</td>\n",
       "      <td>&lt;rdkit.Chem.rdchem.Mol object at 0x7f74d1172a60&gt;</td>\n",
       "    </tr>\n",
       "    <tr>\n",
       "      <th>2</th>\n",
       "      <td>2</td>\n",
       "      <td>[H][n+]1cc(C)ccc1/C=C(\\C)C1CC2OC2(C)CCCC(C)C(O...</td>\n",
       "      <td>&lt;rdkit.Chem.rdchem.Mol object at 0x7f74cf1ccfa0&gt;</td>\n",
       "    </tr>\n",
       "    <tr>\n",
       "      <th>3</th>\n",
       "      <td>3</td>\n",
       "      <td>[H][n+]1c(C)cccc1/C=C(\\C)C1CC2OC2(C)CCCC(C)C(O...</td>\n",
       "      <td>&lt;rdkit.Chem.rdchem.Mol object at 0x7f74d116eee0&gt;</td>\n",
       "    </tr>\n",
       "    <tr>\n",
       "      <th>4</th>\n",
       "      <td>4</td>\n",
       "      <td>C/C(=C\\c1ccccn1)C1CC2OC2(C)CCCC(C)C(O)C(C)C(=O...</td>\n",
       "      <td>&lt;rdkit.Chem.rdchem.Mol object at 0x7f74d1172a00&gt;</td>\n",
       "    </tr>\n",
       "    <tr>\n",
       "      <th>5</th>\n",
       "      <td>5</td>\n",
       "      <td>C1=C(c2ccc3ccccc3c2)N2CC[NH+]=C2c2ccccc21</td>\n",
       "      <td>&lt;rdkit.Chem.rdchem.Mol object at 0x7f74d1172b20&gt;</td>\n",
       "    </tr>\n",
       "    <tr>\n",
       "      <th>6</th>\n",
       "      <td>6</td>\n",
       "      <td>C1=C(c2cccc3ccccc23)N2CC[NH+]=C2c2ccccc21</td>\n",
       "      <td>&lt;rdkit.Chem.rdchem.Mol object at 0x7f74cf15ea00&gt;</td>\n",
       "    </tr>\n",
       "    <tr>\n",
       "      <th>7</th>\n",
       "      <td>7</td>\n",
       "      <td>C1=C(c2ccccc2)N2CC[NH+]=C2c2ccccc21</td>\n",
       "      <td>&lt;rdkit.Chem.rdchem.Mol object at 0x7f74cf15e7c0&gt;</td>\n",
       "    </tr>\n",
       "    <tr>\n",
       "      <th>8</th>\n",
       "      <td>8</td>\n",
       "      <td>C1=CN2CC(c3ccccc3)[NH+]=C2S1</td>\n",
       "      <td>&lt;rdkit.Chem.rdchem.Mol object at 0x7f74d1172ca0&gt;</td>\n",
       "    </tr>\n",
       "  </tbody>\n",
       "</table>\n",
       "</div>"
      ],
      "text/plain": [
       "   mol_id                                             smiles  \\\n",
       "0       0                     Brc1ccc(C2CN3C=CSC3=[NH+]2)cc1   \n",
       "1       1  [H][n+]1ccc(C)cc1/C=C(\\C)C1CC2OC2(C)CCCC(C)C(O...   \n",
       "2       2  [H][n+]1cc(C)ccc1/C=C(\\C)C1CC2OC2(C)CCCC(C)C(O...   \n",
       "3       3  [H][n+]1c(C)cccc1/C=C(\\C)C1CC2OC2(C)CCCC(C)C(O...   \n",
       "4       4  C/C(=C\\c1ccccn1)C1CC2OC2(C)CCCC(C)C(O)C(C)C(=O...   \n",
       "5       5          C1=C(c2ccc3ccccc3c2)N2CC[NH+]=C2c2ccccc21   \n",
       "6       6          C1=C(c2cccc3ccccc23)N2CC[NH+]=C2c2ccccc21   \n",
       "7       7                C1=C(c2ccccc2)N2CC[NH+]=C2c2ccccc21   \n",
       "8       8                       C1=CN2CC(c3ccccc3)[NH+]=C2S1   \n",
       "\n",
       "                                                mol  \n",
       "0  <rdkit.Chem.rdchem.Mol object at 0x7f74eb57c640>  \n",
       "1  <rdkit.Chem.rdchem.Mol object at 0x7f74d1172a60>  \n",
       "2  <rdkit.Chem.rdchem.Mol object at 0x7f74cf1ccfa0>  \n",
       "3  <rdkit.Chem.rdchem.Mol object at 0x7f74d116eee0>  \n",
       "4  <rdkit.Chem.rdchem.Mol object at 0x7f74d1172a00>  \n",
       "5  <rdkit.Chem.rdchem.Mol object at 0x7f74d1172b20>  \n",
       "6  <rdkit.Chem.rdchem.Mol object at 0x7f74cf15ea00>  \n",
       "7  <rdkit.Chem.rdchem.Mol object at 0x7f74cf15e7c0>  \n",
       "8  <rdkit.Chem.rdchem.Mol object at 0x7f74d1172ca0>  "
      ]
     },
     "execution_count": 45,
     "metadata": {},
     "output_type": "execute_result"
    },
    {
     "name": "stderr",
     "output_type": "stream",
     "text": [
      "[14:38:52] Warning: molecule is tagged as 3D, but all Z coords are zero\n",
      "[14:38:52] Warning: molecule is tagged as 3D, but all Z coords are zero\n",
      "[14:38:52] Warning: molecule is tagged as 3D, but all Z coords are zero\n",
      "[14:38:52] Warning: molecule is tagged as 3D, but all Z coords are zero\n",
      "[14:38:52] Warning: molecule is tagged as 3D, but all Z coords are zero\n",
      "[14:38:52] Warning: molecule is tagged as 3D, but all Z coords are zero\n"
     ]
    }
   ],
   "source": [
    "load_sdf(f\"{data_dir}nov_epik.sdf\")"
   ]
  }
 ],
 "metadata": {
  "interpreter": {
   "hash": "2238d854a1993a20f5a2e769920d74e68befec1db0b55829c688fae57b1385d3"
  },
  "kernelspec": {
   "display_name": "Python 3.9.7 64-bit ('pkasolver': conda)",
   "name": "python3"
  },
  "language_info": {
   "codemirror_mode": {
    "name": "ipython",
    "version": 3
   },
   "file_extension": ".py",
   "mimetype": "text/x-python",
   "name": "python",
   "nbconvert_exporter": "python",
   "pygments_lexer": "ipython3",
   "version": "3.9.7"
  },
  "orig_nbformat": 4
 },
 "nbformat": 4,
 "nbformat_minor": 2
}
